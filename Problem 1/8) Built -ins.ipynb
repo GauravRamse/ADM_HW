{
 "cells": [
  {
   "cell_type": "markdown",
   "metadata": {},
   "source": [
    "### Built ins"
   ]
  },
  {
   "cell_type": "markdown",
   "metadata": {},
   "source": [
    "#### 1) Zipped!"
   ]
  },
  {
   "cell_type": "code",
   "execution_count": null,
   "metadata": {},
   "outputs": [],
   "source": [
    "x = input()\n",
    "x1 = int(x.split()[0])\n",
    "y1 = int(x.split()[1])\n",
    "l = []\n",
    "for i in range(y1):\n",
    "    marks = str(input())\n",
    "    l.append(list(map(float, marks.split())))\n",
    "for i in zip(*l):\n",
    "    print('%0.1f'%(sum(i)/y1))"
   ]
  },
  {
   "cell_type": "markdown",
   "metadata": {},
   "source": [
    "#### 2) Athlete Sort"
   ]
  },
  {
   "cell_type": "code",
   "execution_count": null,
   "metadata": {},
   "outputs": [],
   "source": [
    "import math\n",
    "import os\n",
    "import random\n",
    "import re\n",
    "import sys\n",
    "\n",
    "\n",
    "\n",
    "if __name__ == '__main__':\n",
    "    nm = input().split()\n",
    "\n",
    "    n = int(nm[0])\n",
    "\n",
    "    m = int(nm[1])\n",
    "\n",
    "    arr = []\n",
    "\n",
    "    for _ in range(n):\n",
    "        arr.append(list(map(int, input().rstrip().split())))\n",
    "\n",
    "    global k\n",
    "    k = int(input())\n",
    "    \n",
    "    def function(l):\n",
    "        return l[k]\n",
    "    arr.sort(key = function)\n",
    "    for i in arr:\n",
    "        print(' '.join([str(l) for l in i]))"
   ]
  },
  {
   "cell_type": "markdown",
   "metadata": {},
   "source": [
    "#### 3) ginortS"
   ]
  },
  {
   "cell_type": "code",
   "execution_count": null,
   "metadata": {},
   "outputs": [],
   "source": [
    "s = input()\n",
    "even = []\n",
    "odd = []\n",
    "lower = []\n",
    "upper = []\n",
    "for i in s:\n",
    "    if  i.isdigit():\n",
    "        if int(i)%2 ==0:\n",
    "            even.append(i)\n",
    "        else:\n",
    "            odd.append(i)\n",
    "\n",
    "    elif i.isalpha():\n",
    "        if i.islower():\n",
    "            lower.append(i)\n",
    "        else:\n",
    "            upper.append(i)\n",
    "even1 = ''.join(sorted([str(i) for i in even]))\n",
    "odd2 = ''.join(sorted([str(i) for i in odd]))\n",
    "lower3 = ''.join(sorted([str(i) for i in lower]))\n",
    "upper4 = ''.join(sorted([str(i) for i in upper]))\n",
    "\n",
    "print(lower3 + upper4 +odd2 + even1)"
   ]
  }
 ],
 "metadata": {
  "kernelspec": {
   "display_name": "Python 3",
   "language": "python",
   "name": "python3"
  },
  "language_info": {
   "codemirror_mode": {
    "name": "ipython",
    "version": 3
   },
   "file_extension": ".py",
   "mimetype": "text/x-python",
   "name": "python",
   "nbconvert_exporter": "python",
   "pygments_lexer": "ipython3",
   "version": "3.7.4"
  }
 },
 "nbformat": 4,
 "nbformat_minor": 2
}
