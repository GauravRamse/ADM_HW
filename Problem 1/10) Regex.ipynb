{
 "cells": [
  {
   "cell_type": "markdown",
   "metadata": {},
   "source": [
    "### regex"
   ]
  },
  {
   "cell_type": "markdown",
   "metadata": {},
   "source": [
    "#### 1) Detect Floating Point Number"
   ]
  },
  {
   "cell_type": "code",
   "execution_count": null,
   "metadata": {},
   "outputs": [],
   "source": [
    "n = int(input())\n",
    "import re\n",
    "pattern = '^[-+]?(\\.?[0-9]*\\.[0-9]*)$'\n",
    "for i in range(n):\n",
    "    text = input()\n",
    "    print(bool(re.search(pattern, text)))"
   ]
  },
  {
   "cell_type": "markdown",
   "metadata": {},
   "source": [
    "#### 2) Re.split()"
   ]
  },
  {
   "cell_type": "code",
   "execution_count": null,
   "metadata": {},
   "outputs": [],
   "source": [
    "regex_pattern = r\"[.,]\"\n",
    "\n",
    "import re\n",
    "print(\"\\n\".join(re.split(regex_pattern, input())))"
   ]
  },
  {
   "cell_type": "markdown",
   "metadata": {},
   "source": [
    "#### 3) Group(), Groups() & Groupdict()"
   ]
  },
  {
   "cell_type": "code",
   "execution_count": null,
   "metadata": {},
   "outputs": [],
   "source": [
    "import re\n",
    "pattern = r'([a-zA-Z0-9])\\1+'\n",
    "text = input()\n",
    "group_1 = re.search(pattern , text)\n",
    "if group_1:\n",
    "    print(group_1.groups()[0])\n",
    "else:\n",
    "    print(-1)"
   ]
  },
  {
   "cell_type": "markdown",
   "metadata": {},
   "source": [
    "#### 4) Re.findall() & Re.finditer() "
   ]
  },
  {
   "cell_type": "code",
   "execution_count": null,
   "metadata": {},
   "outputs": [],
   "source": [
    "import re\n",
    "in_ = input()\n",
    "a = re.findall(r'(?<=[b-df-hj-np-tv-zB-DF-HJ-NP-TV-Z])([aeiouAEIOU]{2,})(?=[b-df-hj-np-tv-zB-DF-HJ-NP-TV-Z])', in_)\n",
    "\n",
    "for i in a:\n",
    "    print(i)\n",
    "if len(a) ==0: \n",
    "    print(-1)"
   ]
  },
  {
   "cell_type": "markdown",
   "metadata": {},
   "source": [
    "#### 5) Regex Substitution"
   ]
  },
  {
   "cell_type": "code",
   "execution_count": null,
   "metadata": {},
   "outputs": [],
   "source": [
    "import re\n",
    "n = int(input())\n",
    "for i in range(n):\n",
    "    a = re.sub('(?<= )(&&|\\|\\|)(?= )',lambda replace: 'and' if replace.group() == '&&' else 'or', input())\n",
    "    print(a)\n"
   ]
  },
  {
   "cell_type": "markdown",
   "metadata": {},
   "source": [
    "#### 6) Validating Roman Numerals"
   ]
  },
  {
   "cell_type": "code",
   "execution_count": null,
   "metadata": {},
   "outputs": [],
   "source": [
    "regex_pattern = r\"M{0,3}(CM|CD|D?C{0,3})(XC|XL|L?X{0,3})(IX|IV|V?I{0,3})$\"\n"
   ]
  },
  {
   "cell_type": "markdown",
   "metadata": {},
   "source": [
    "#### 7) Validating phone numbers"
   ]
  },
  {
   "cell_type": "code",
   "execution_count": null,
   "metadata": {},
   "outputs": [],
   "source": [
    "import re\n",
    "n = int(input())\n",
    "\n",
    "for i in range(n):\n",
    "    output_value = bool(re.match(r'^[7|8|9]\\d{9}$', input()))\n",
    "    if output_value:\n",
    "        print('YES')\n",
    "        \n",
    "    else:\n",
    "        print('NO')"
   ]
  },
  {
   "cell_type": "markdown",
   "metadata": {},
   "source": [
    "#### 8) Validating and Parsing Email Addresses"
   ]
  },
  {
   "cell_type": "code",
   "execution_count": null,
   "metadata": {},
   "outputs": [],
   "source": [
    "import re\n",
    "n = int(input())\n",
    "for i in range(n):\n",
    "    email_input  = str(input())\n",
    "    if re.match(r'<[a-zA-Z]{1,}(\\w|-|\\.|)*@[a-zA-Z]*\\.[a-zA-Z]{0,3}>$', email_input.split()[1]):\n",
    "        print(email_input)"
   ]
  },
  {
   "cell_type": "markdown",
   "metadata": {},
   "source": [
    "#### 9) Hex Color Code"
   ]
  },
  {
   "cell_type": "code",
   "execution_count": null,
   "metadata": {},
   "outputs": [],
   "source": [
    "import re\n",
    "n = int(input())\n",
    "pattern = r\"#[0-9a-fA-F]{3,6}\"\n",
    "css = False\n",
    "for i in range(n):\n",
    "    string = input()\n",
    "    if '{' in string:\n",
    "        css = True\n",
    "    elif '}' in string:\n",
    "        css = False\n",
    "    elif css:\n",
    "        for hex_color in re.findall(pattern, string):\n",
    "            print(hex_color)"
   ]
  },
  {
   "cell_type": "markdown",
   "metadata": {},
   "source": [
    "#### 10) HTML Parser - Part 1"
   ]
  },
  {
   "cell_type": "code",
   "execution_count": null,
   "metadata": {},
   "outputs": [],
   "source": [
    "from html.parser import HTMLParser\n",
    "\n",
    "# create a subclass and override the handler methods\n",
    "class MyHTMLParser(HTMLParser):\n",
    "    def handle_starttag(self, tag, attrs):\n",
    "        print (\"Start :\", tag)\n",
    "        for att in attrs:\n",
    "            print('-> {} > {}'.format(att[0],str(att[1])))\n",
    "    def handle_endtag(self, tag):\n",
    "        print (\"End   :\",tag)\n",
    "    def handle_startendtag(self, tag, attrs):\n",
    "        print (\"Empty :\", tag)\n",
    "        for att in attrs:\n",
    "            print('-> {} > {}'.format(att[0],str(att[1])))\n",
    "# instantiate the parser and fed it some HTML\n",
    "parser = MyHTMLParser()\n",
    "\n",
    "html_code = '\\n'.join([input() for x in range(int(input()))])\n",
    "\n",
    "parser.feed(html_code)"
   ]
  },
  {
   "cell_type": "markdown",
   "metadata": {},
   "source": [
    "#### 11) HTML Parser - Part 2"
   ]
  },
  {
   "cell_type": "code",
   "execution_count": null,
   "metadata": {},
   "outputs": [],
   "source": [
    "from html.parser import HTMLParser\n",
    "\n",
    "class MyHTMLParser(HTMLParser):\n",
    "    def handle_comment(self, data):\n",
    "        if '\\n' in data:\n",
    "            print('>>> Multi-line Comment')\n",
    "        else:\n",
    "            print('>>> Single-line Comment')\n",
    "        if len(data)>0:\n",
    "            print(data)\n",
    "   \n",
    "    def handle_data(self, data):\n",
    "        if data != '\\n': \n",
    "            if len(data)>0:\n",
    "                print('>>> Data')\n",
    "                print(data)\n",
    "\n",
    "  \n",
    "html = \"\"       \n",
    "for i in range(int(input())):\n",
    "    html += input().rstrip()\n",
    "    html += '\\n'\n",
    "    \n",
    "parser = MyHTMLParser()\n",
    "parser.feed(html)\n",
    "parser.close()"
   ]
  },
  {
   "cell_type": "markdown",
   "metadata": {},
   "source": [
    "#### 12) Detect HTML Tags, Attributes and Attribute Values"
   ]
  },
  {
   "cell_type": "code",
   "execution_count": null,
   "metadata": {},
   "outputs": [],
   "source": [
    "from html.parser import HTMLParser\n",
    "\n",
    "class MYHTMLParser(HTMLParser):\n",
    "    def handle_starttag(self, tag, attrs):\n",
    "        if tag != 'n':\n",
    "\n",
    "            print(tag)\n",
    "\n",
    "        for atts in attrs:\n",
    "            if atts[0]!= 'n':\n",
    "                print('-> {} > {}'.format(atts[0], (atts[1])))\n",
    "\n",
    "\n",
    "n = int(input())\n",
    "\n",
    "html_code = \"\"\n",
    "for _ in range(n):\n",
    "    html_code = html_code + input().rstrip()\n",
    "    html_code = html_code + '/n'\n",
    "\n",
    "parser = MYHTMLParser()\n",
    "parser.feed(html_code)\n"
   ]
  },
  {
   "cell_type": "markdown",
   "metadata": {},
   "source": [
    "#### 13) Validating UID"
   ]
  },
  {
   "cell_type": "code",
   "execution_count": null,
   "metadata": {},
   "outputs": [],
   "source": [
    "import re\n",
    "for _ in range(int(input())):\n",
    "    s = input()\n",
    "    if (    len(s) != 10 or \n",
    "            len(s) != len(set(s)) or \n",
    "            not s.isalnum() or \n",
    "            len(re.findall(r'[A-Z]', s)) < 2 or \n",
    "            len(re.findall(r'[0-9]', s)) < 3):\n",
    "        print(\"Invalid\")\n",
    "    else:\n",
    "        print(\"Valid\")"
   ]
  },
  {
   "cell_type": "code",
   "execution_count": null,
   "metadata": {},
   "outputs": [],
   "source": []
  },
  {
   "cell_type": "code",
   "execution_count": null,
   "metadata": {},
   "outputs": [],
   "source": []
  },
  {
   "cell_type": "code",
   "execution_count": null,
   "metadata": {},
   "outputs": [],
   "source": []
  }
 ],
 "metadata": {
  "kernelspec": {
   "display_name": "Python 3",
   "language": "python",
   "name": "python3"
  },
  "language_info": {
   "codemirror_mode": {
    "name": "ipython",
    "version": 3
   },
   "file_extension": ".py",
   "mimetype": "text/x-python",
   "name": "python",
   "nbconvert_exporter": "python",
   "pygments_lexer": "ipython3",
   "version": "3.7.4"
  }
 },
 "nbformat": 4,
 "nbformat_minor": 2
}
