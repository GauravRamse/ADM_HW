{
 "cells": [
  {
   "cell_type": "markdown",
   "metadata": {},
   "source": [
    "### Collection"
   ]
  },
  {
   "cell_type": "markdown",
   "metadata": {},
   "source": [
    "#### 1) collections.Counter()"
   ]
  },
  {
   "cell_type": "code",
   "execution_count": null,
   "metadata": {},
   "outputs": [],
   "source": [
    "no_of_shoes = int(input())\n",
    "lst = input()\n",
    "lst_of_shoes = list(map(int, lst.split()))\n",
    "no_of_cust = int(input())\n",
    "z = []\n",
    "for i in range(no_of_cust):\n",
    "    z.append(list(map(int, input().split())))\n",
    "price = 0\n",
    "for i in z:\n",
    "    try :\n",
    "        lst_of_shoes.remove(i[0])\n",
    "        price = price +i[1]\n",
    "    except:\n",
    "        pass\n",
    "print(price)"
   ]
  },
  {
   "cell_type": "markdown",
   "metadata": {},
   "source": [
    "#### 2) DefaultDict Tutorial"
   ]
  },
  {
   "cell_type": "code",
   "execution_count": null,
   "metadata": {},
   "outputs": [],
   "source": [
    "from collections import defaultdict\n",
    "dic = defaultdict(list)\n",
    "z = input()\n",
    "n = int(z.split()[0])\n",
    "m = int(z.split()[1])\n",
    "\n",
    "list_1 = []\n",
    "for i in range(n):\n",
    "    list_1.append(input())\n",
    "\n",
    "list_2 = []\n",
    "for i in range(m):\n",
    "    list_2.append(input())\n",
    "\n",
    "for i in range(1, len(list_1) + 1):\n",
    "    dic[list_1[i-1]].append(str(i))\n",
    "#\n",
    "for i in range(len(list_2)):\n",
    "    print(' '.join(dic[list_2[i]]) or -1)"
   ]
  },
  {
   "cell_type": "markdown",
   "metadata": {},
   "source": [
    "#### 3) Collections.namedtuple()"
   ]
  },
  {
   "cell_type": "code",
   "execution_count": null,
   "metadata": {},
   "outputs": [],
   "source": [
    "from collections import namedtuple\n",
    "total_students = int(input())\n",
    "colum_name = str(input())\n",
    "Avg_Marks = namedtuple('Avg_Marks', colum_name)\n",
    "z_1 = 0\n",
    "colum_name = colum_name.split()\n",
    "for i in range(total_students):\n",
    "    y = input().split()\n",
    "\n",
    "    Avg_Mark =  Avg_Marks(y[0],y[1], y[2], y[3])\n",
    "    #print(Avg_Mark.MARKS)\n",
    "    z_1 = z_1 + float(Avg_Mark.MARKS)\n",
    "print('%0.2f'%(z_1/total_students))"
   ]
  },
  {
   "cell_type": "markdown",
   "metadata": {},
   "source": [
    "#### 4) Collections.OrderedDict()"
   ]
  },
  {
   "cell_type": "code",
   "execution_count": null,
   "metadata": {},
   "outputs": [],
   "source": [
    "n = int(input())\n",
    "u = []\n",
    "for i in range(n):\n",
    "    x = input()\n",
    "    u.append([' '.join(x.split()[0:-1]), int(x.split()[-1])])\n",
    "dic = {}\n",
    "for i in u:\n",
    "    dic[i[0]] = i[1]\n",
    "y = []\n",
    "for i in u:\n",
    "    y.append(i[0])\n",
    "from collections import Counter\n",
    "count = Counter(y)\n",
    "for key, value in count.items():\n",
    "    print( '{} {}'.format(key, dic[key] * value))\n"
   ]
  },
  {
   "cell_type": "markdown",
   "metadata": {},
   "source": [
    "#### 5) Word Order"
   ]
  },
  {
   "cell_type": "code",
   "execution_count": null,
   "metadata": {},
   "outputs": [],
   "source": [
    "from collections import Counter\n",
    "n = int(input())\n",
    "lis = []\n",
    "for i in range(n):\n",
    "    lis.append(input())\n",
    "\n",
    "\n",
    "c = Counter(lis)\n",
    "z =list(c.values())\n",
    "z = [str(i) for i in z]\n",
    "print(len(z))\n",
    "print(' '.join(z))\n"
   ]
  },
  {
   "cell_type": "markdown",
   "metadata": {},
   "source": [
    "#### 6) Collections.deque()"
   ]
  },
  {
   "cell_type": "code",
   "execution_count": null,
   "metadata": {},
   "outputs": [],
   "source": [
    "from collections import deque\n",
    "\n",
    "n = int(input())\n",
    "d = deque()\n",
    "for i in range(n):\n",
    "    x = str(input())\n",
    "    if len(x.split()) > 1:\n",
    "        getattr(d, x.split()[0])(x.split()[1])\n",
    "    else:\n",
    "        getattr(d, x.split()[0])()\n",
    "\n",
    "print(' '.join([str(i) for i in d]))"
   ]
  },
  {
   "cell_type": "markdown",
   "metadata": {},
   "source": [
    "#### 7) Company Logo"
   ]
  },
  {
   "cell_type": "code",
   "execution_count": null,
   "metadata": {},
   "outputs": [],
   "source": [
    "import math\n",
    "import os\n",
    "import random\n",
    "import re\n",
    "import sys\n",
    "\n",
    "from collections import Counter\n",
    "\n",
    "if __name__ == '__main__':\n",
    "    s = input()\n",
    "    [print('{} {}'.format(d[0], d[1])) for d in Counter(sorted(s)).most_common(3)]"
   ]
  }
 ],
 "metadata": {
  "kernelspec": {
   "display_name": "Python 3",
   "language": "python",
   "name": "python3"
  },
  "language_info": {
   "codemirror_mode": {
    "name": "ipython",
    "version": 3
   },
   "file_extension": ".py",
   "mimetype": "text/x-python",
   "name": "python",
   "nbconvert_exporter": "python",
   "pygments_lexer": "ipython3",
   "version": "3.7.4"
  }
 },
 "nbformat": 4,
 "nbformat_minor": 2
}
