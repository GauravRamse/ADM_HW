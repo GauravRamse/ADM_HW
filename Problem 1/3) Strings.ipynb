{
 "cells": [
  {
   "cell_type": "markdown",
   "metadata": {},
   "source": [
    "### Strings"
   ]
  },
  {
   "cell_type": "markdown",
   "metadata": {},
   "source": [
    "#### 1) sWAP cASE"
   ]
  },
  {
   "cell_type": "code",
   "execution_count": null,
   "metadata": {},
   "outputs": [],
   "source": [
    "def swap_case(s):\n",
    "    s = s.swapcase()\n",
    "    return s"
   ]
  },
  {
   "cell_type": "markdown",
   "metadata": {},
   "source": [
    "#### 2) String Split and Join"
   ]
  },
  {
   "cell_type": "code",
   "execution_count": null,
   "metadata": {},
   "outputs": [],
   "source": [
    "def split_and_join(line):\n",
    "    return(\"-\".join(line.split()))"
   ]
  },
  {
   "cell_type": "markdown",
   "metadata": {},
   "source": [
    "#### 3) What's Your Name?"
   ]
  },
  {
   "cell_type": "code",
   "execution_count": null,
   "metadata": {},
   "outputs": [],
   "source": [
    "def print_full_name(a, b):\n",
    "    print(\"Hello \" + a + \" \" +  b +\"! You just delved into python.\")"
   ]
  },
  {
   "cell_type": "markdown",
   "metadata": {},
   "source": [
    "#### 4) Mutations"
   ]
  },
  {
   "cell_type": "code",
   "execution_count": null,
   "metadata": {},
   "outputs": [],
   "source": [
    "def mutate_string(string, position, character):\n",
    "    x = string[:position] + character + string[(position +1 ):]\n",
    "    return x"
   ]
  },
  {
   "cell_type": "markdown",
   "metadata": {},
   "source": [
    "#### 5) Find a string"
   ]
  },
  {
   "cell_type": "code",
   "execution_count": null,
   "metadata": {},
   "outputs": [],
   "source": [
    "def count_substring(string, sub_string):\n",
    "    count = 0\n",
    "    for i in range(len(string)):\n",
    "        if string[i:].startswith(sub_string):\n",
    "            count = count +1 \n",
    "    return count\n"
   ]
  },
  {
   "cell_type": "markdown",
   "metadata": {},
   "source": [
    "#### 6) String Validators"
   ]
  },
  {
   "cell_type": "code",
   "execution_count": null,
   "metadata": {},
   "outputs": [],
   "source": [
    "if __name__ == '__main__':\n",
    "    s = input()\n",
    "    li = [False,False,False,False,False]\n",
    "    for i in s:\n",
    "\n",
    "        if i.isalnum() :\n",
    "            li[0] = True\n",
    "        if i.isalpha() :\n",
    "            li[1] = True\n",
    "        if i.isdigit() :\n",
    "            li[2] = True\n",
    "        if i.islower() :\n",
    "            li[3] = True\n",
    "        if i.isupper() :\n",
    "            li[4] = True\n",
    "\n",
    "    for i in li:\n",
    "        print(i)\n"
   ]
  },
  {
   "cell_type": "markdown",
   "metadata": {},
   "source": [
    "#### 7) Text Alignment"
   ]
  },
  {
   "cell_type": "code",
   "execution_count": null,
   "metadata": {},
   "outputs": [],
   "source": [
    "#Replace all ______ with rjust, ljust or center. \n",
    "\n",
    "thickness = int(input()) #This must be an odd number\n",
    "c = 'H'\n",
    "\n",
    "#Top Cone\n",
    "for i in range(thickness):\n",
    "    print((c*i).rjust(thickness-1)+c+(c*i).ljust(thickness-1))\n",
    "\n",
    "#Top Pillars\n",
    "for i in range(thickness+1):\n",
    "    print((c*thickness).center(thickness*2)+(c*thickness).center(thickness*6))\n",
    "\n",
    "#Middle Belt\n",
    "for i in range((thickness+1)//2):\n",
    "    print((c*thickness*5).center(thickness*6))    \n",
    "\n",
    "#Bottom Pillars\n",
    "for i in range(thickness+1):\n",
    "    print((c*thickness).center(thickness*2)+(c*thickness).center(thickness*6))    \n",
    "\n",
    "#Bottom Cone\n",
    "for i in range(thickness):\n",
    "    print(((c*(thickness-i-1)).rjust(thickness)+c+(c*(thickness-i-1)).ljust(thickness)).rjust(thickness*6))\n"
   ]
  },
  {
   "cell_type": "markdown",
   "metadata": {},
   "source": [
    "#### 8) Text wrap"
   ]
  },
  {
   "cell_type": "code",
   "execution_count": null,
   "metadata": {},
   "outputs": [],
   "source": [
    "\n",
    "def wrap(string, max_width):\n",
    "    my_wrap = textwrap.TextWrapper(width = max_width)\n",
    "    wrap_list = my_wrap.wrap(text=string)\n",
    "    result = \"\"\n",
    "    for i in wrap_list:\n",
    "        result = result + i\n",
    "        result = result + '\\n'\n",
    "    return result   \n"
   ]
  },
  {
   "cell_type": "markdown",
   "metadata": {},
   "source": [
    "#### 9) Designer Door Mat"
   ]
  },
  {
   "cell_type": "code",
   "execution_count": null,
   "metadata": {},
   "outputs": [],
   "source": [
    "s = (input())\n",
    "\n",
    "n = int(s.split()[0])\n",
    "m = int(s.split()[1])\n",
    "for i in range((n-1)//2):\n",
    "    print( '-' * int((m-3)//(2) - (3* i)) + '.|.'* ((i*2)+1)  + '-' * int((m-3)//(2) - (3* i)) )\n",
    "\n",
    "print('WELCOME'.center(m, '-'))\n",
    "\n",
    "for i in range(((n-1)//2)-1,-1,-1):\n",
    "    print( '-' * int((m-3)//(2) - (3* i)) + '.|.'* ((i*2)+1)  + '-' * int((m-3)//(2) - (3* i)) )"
   ]
  },
  {
   "cell_type": "markdown",
   "metadata": {},
   "source": [
    "#### 10) String Formatting"
   ]
  },
  {
   "cell_type": "code",
   "execution_count": null,
   "metadata": {},
   "outputs": [],
   "source": [
    "\n",
    "def print_formatted(number):\n",
    "\n",
    "    lis = []\n",
    "\n",
    "    for i in range(1, number+1):\n",
    "        decimal = str(i)\n",
    "        octal = str(oct(i)[2:])\n",
    "        hex_ = str(hex(i)[2:]).upper()\n",
    "        binary = str(bin(i)[2:])\n",
    "\n",
    "        lis.append([decimal, octal, hex_, binary])\n",
    "\n",
    "    width = len(lis[-1][3])\n",
    "    #print(width)\n",
    "\n",
    "    for i in lis:\n",
    "        print(*(j.rjust(width) for j in i))\n"
   ]
  },
  {
   "cell_type": "markdown",
   "metadata": {},
   "source": [
    "#### 11) Alphabet Rangoli"
   ]
  },
  {
   "cell_type": "code",
   "execution_count": null,
   "metadata": {},
   "outputs": [],
   "source": [
    "import string\n",
    "def print_rangoli(size):\n",
    "\n",
    "    s = string.ascii_lowercase[:size]\n",
    "    value_of_all_char = (size*2)-1 + (size-1)*2\n",
    "    l = []\n",
    "    for i in range(size):\n",
    "        temp = '-'.join(list(s[-(i+1):]))\n",
    "        rev = temp[::-1]\n",
    "        l.append((rev[:-1] + temp).center(value_of_all_char, '-'))\n",
    "        print((rev[:-1] + temp).center(value_of_all_char, '-'))\n",
    "    for i in range(2, size+1):\n",
    "        print(l[i*(-1)])\n"
   ]
  },
  {
   "cell_type": "markdown",
   "metadata": {},
   "source": [
    "#### 12) Capitalize!"
   ]
  },
  {
   "cell_type": "code",
   "execution_count": null,
   "metadata": {},
   "outputs": [],
   "source": [
    "def solve(s):\n",
    "    l = [i.capitalize() for i in s.split(' ')]\n",
    "    return ' '.join(l)\n"
   ]
  },
  {
   "cell_type": "markdown",
   "metadata": {},
   "source": [
    "#### 13) The Minion Game"
   ]
  },
  {
   "cell_type": "code",
   "execution_count": null,
   "metadata": {},
   "outputs": [],
   "source": [
    "def minion_game(string):\n",
    "    stuart_count = 0\n",
    "    kevin_count = 0\n",
    "    for ind, i in enumerate(string):\n",
    "        if i not in 'AEIOU':\n",
    "            stuart_count = stuart_count + len(string)- ind\n",
    "        else:                \n",
    "            kevin_count = kevin_count + len(string)- ind\n",
    "    \n",
    "    if stuart_count > kevin_count:\n",
    "        print('Stuart {}'.format(stuart_count))\n",
    "    elif stuart_count < kevin_count:\n",
    "        print('Kevin {}'.format(kevin_count))\n",
    "    else:\n",
    "        print('Draw')\n"
   ]
  },
  {
   "cell_type": "markdown",
   "metadata": {},
   "source": [
    "#### 14) Merge the Tools!"
   ]
  },
  {
   "cell_type": "code",
   "execution_count": null,
   "metadata": {},
   "outputs": [],
   "source": [
    "def merge_the_tools(string, k):\n",
    "    val = (len(string)//k)\n",
    "    for i in range(val):\n",
    "        l = []\n",
    "        for j in string[(i)*k:(i+1)*k]:\n",
    "            if j not in l:\n",
    "                l.append(j)\n",
    "        print(''.join(l))"
   ]
  }
 ],
 "metadata": {
  "kernelspec": {
   "display_name": "Python 3",
   "language": "python",
   "name": "python3"
  },
  "language_info": {
   "codemirror_mode": {
    "name": "ipython",
    "version": 3
   },
   "file_extension": ".py",
   "mimetype": "text/x-python",
   "name": "python",
   "nbconvert_exporter": "python",
   "pygments_lexer": "ipython3",
   "version": "3.7.4"
  }
 },
 "nbformat": 4,
 "nbformat_minor": 2
}
