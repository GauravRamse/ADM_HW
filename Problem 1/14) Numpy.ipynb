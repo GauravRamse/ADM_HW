{
 "cells": [
  {
   "cell_type": "markdown",
   "metadata": {},
   "source": [
    "### Numpy"
   ]
  },
  {
   "cell_type": "markdown",
   "metadata": {},
   "source": [
    "#### 1) Arrays"
   ]
  },
  {
   "cell_type": "code",
   "execution_count": null,
   "metadata": {},
   "outputs": [],
   "source": [
    "import numpy\n",
    "\n",
    "def arrays(arr):\n",
    "    arr = [float(i) for i in arr]\n",
    "    x = numpy.array(arr, float)\n",
    "    x = x[::-1]\n",
    "    return x\n",
    "    # complete this function\n",
    "    # use numpy.array\n",
    "\n",
    "arr = input().strip().split(' ')\n",
    "result = arrays(arr)\n",
    "print(result)"
   ]
  },
  {
   "cell_type": "markdown",
   "metadata": {},
   "source": [
    "#### 2) Shape and Reshape"
   ]
  },
  {
   "cell_type": "code",
   "execution_count": null,
   "metadata": {},
   "outputs": [],
   "source": [
    "import numpy as np\n",
    "\n",
    "input_array = input()\n",
    "input_array_int = list(map(int, input_array.split()))\n",
    "arr = np.array(input_array_int)\n",
    "\n",
    "print(np.reshape(arr, (3,3)))"
   ]
  },
  {
   "cell_type": "markdown",
   "metadata": {},
   "source": [
    "#### 3) Transpose and Flatten"
   ]
  },
  {
   "cell_type": "code",
   "execution_count": null,
   "metadata": {},
   "outputs": [],
   "source": [
    "import numpy as np\n",
    "\n",
    "nm= list(map(int, input().split()))\n",
    "n = int(nm[0])\n",
    "m = int(nm[1])\n",
    "lis = []\n",
    "for i in range(n):\n",
    "    lis.append(list(map(int, input().split())))\n",
    "array = np.array(lis)\n",
    "print(array.transpose())\n",
    "print(array.flatten())"
   ]
  },
  {
   "cell_type": "markdown",
   "metadata": {},
   "source": [
    "#### 4) Concatenate"
   ]
  },
  {
   "cell_type": "code",
   "execution_count": null,
   "metadata": {},
   "outputs": [],
   "source": [
    "import numpy as np\n",
    "\n",
    "nmp = input().split()\n",
    "n = int(nmp[0])\n",
    "m = int(nmp[1])\n",
    "p = int(nmp[2])\n",
    "\n",
    "list_1 = []\n",
    "for i in range(n):\n",
    "    list_1.append(list(map(int, input().split())))\n",
    "list_2 = []\n",
    "for i in range(m):\n",
    "    list_2.append(list(map(int, input().split())))\n",
    "\n",
    "print(np.concatenate((np.array(list_1), np.array(list_2)), axis = 0))"
   ]
  },
  {
   "cell_type": "markdown",
   "metadata": {},
   "source": [
    "#### 5) Zeros and Ones"
   ]
  },
  {
   "cell_type": "code",
   "execution_count": null,
   "metadata": {},
   "outputs": [],
   "source": [
    "import numpy as np\n",
    "input_shape = list(map(int, input().split()))\n",
    "\n",
    "\n",
    "print(np.zeros(tuple(input_shape), dtype =np.int))\n",
    "\n",
    "print(np.ones(tuple(input_shape), dtype = np.int))"
   ]
  },
  {
   "cell_type": "markdown",
   "metadata": {},
   "source": [
    "#### 6) Eye and Identity"
   ]
  },
  {
   "cell_type": "code",
   "execution_count": null,
   "metadata": {},
   "outputs": [],
   "source": [
    "import numpy\n",
    "xy = list(map(int,input().split()))\n",
    "x = xy[0]\n",
    "y = xy[1]\n",
    "print(str(numpy.eye(x,y)).replace('1',' 1').replace('0',' 0'))"
   ]
  },
  {
   "cell_type": "markdown",
   "metadata": {},
   "source": [
    "#### 7) Array Mathematics"
   ]
  },
  {
   "cell_type": "code",
   "execution_count": null,
   "metadata": {},
   "outputs": [],
   "source": [
    "import numpy as np\n",
    "n,m = map(int,input().split())\n",
    "\n",
    "array1=np.zeros((n,m),int)\n",
    "array2=np.zeros((n,m),int)\n",
    "for i in range(n):\n",
    "    array1[i]=np.array(input().split(),int)\n",
    "for i in range(n):\n",
    "    array2[i]=np.array(input().split(),int)  \n",
    "\n",
    "print(array1+array2)\n",
    "print(array1-array2)\n",
    "print(array1*array2)\n",
    "print(np.array(array1/array2,int))\n",
    "print(array1%array2)\n",
    "print(array1**array2)"
   ]
  },
  {
   "cell_type": "markdown",
   "metadata": {},
   "source": [
    "#### 8) Floor, Ceil and Rint"
   ]
  },
  {
   "cell_type": "code",
   "execution_count": null,
   "metadata": {},
   "outputs": [],
   "source": [
    "import numpy\n",
    "numpy.set_printoptions(sign=' ')\n",
    "arr = list(map(float, input().split()))\n",
    "arra = numpy.array(arr, float)\n",
    "print(numpy.floor(arra))\n",
    "print(numpy.ceil(arra))\n",
    "print(numpy.rint(arra))\n"
   ]
  },
  {
   "cell_type": "markdown",
   "metadata": {},
   "source": [
    "#### 9) Sum and Prod"
   ]
  },
  {
   "cell_type": "code",
   "execution_count": null,
   "metadata": {},
   "outputs": [],
   "source": [
    "import numpy as np\n",
    "\n",
    "nm = input().split()\n",
    "n = int(nm[0])\n",
    "m = int(nm[1])\n",
    "arr = np.zeros((n, m), int)\n",
    "k =[]\n",
    "for i in range(n):\n",
    "    k.append(list(map(int, input().split())))\n",
    "\n",
    "print(np.prod(np.sum(np.array(k), axis = 0)))"
   ]
  },
  {
   "cell_type": "markdown",
   "metadata": {},
   "source": [
    "#### 10) Min and Max"
   ]
  },
  {
   "cell_type": "code",
   "execution_count": null,
   "metadata": {},
   "outputs": [],
   "source": [
    "import numpy \n",
    "nm = input().split()\n",
    "n = int(nm[0])\n",
    "m = int(nm[1])\n",
    "\n",
    "k = []\n",
    "for i in range(n):\n",
    "    k.append(list(map(int, input().split())))\n",
    "print(max(numpy.min(k, axis= 1)))"
   ]
  },
  {
   "cell_type": "markdown",
   "metadata": {},
   "source": [
    "#### 11) Mean, Var, and Std"
   ]
  },
  {
   "cell_type": "code",
   "execution_count": null,
   "metadata": {},
   "outputs": [],
   "source": [
    "import numpy \n",
    "numpy.set_printoptions(legacy='1.13')\n",
    "nm = input().split()\n",
    "n = int(nm[0])\n",
    "m = int(nm[1])\n",
    "\n",
    "k = []\n",
    "for i in range(n):\n",
    "    k.append(list(map(int, input().split())))\n",
    "\n",
    "arr = numpy.array(k, dtype = float)\n",
    "\n",
    "print(numpy.mean(arr, axis = 1))\n",
    "print(numpy.var(arr, axis=0))\n",
    "print(numpy.std(arr))"
   ]
  },
  {
   "cell_type": "markdown",
   "metadata": {},
   "source": [
    "#### 12) Dot and Cross"
   ]
  },
  {
   "cell_type": "code",
   "execution_count": null,
   "metadata": {},
   "outputs": [],
   "source": [
    "import numpy\n",
    "\n",
    "\n",
    "n = int(input())\n",
    "\n",
    "k1 = []\n",
    "for i in range(n):\n",
    "    k1.append(list(map(int, input().split())))\n",
    "k2 = []\n",
    "for i in range(n):\n",
    "    k2.append(list(map(int, input().split())))\n",
    "\n",
    "array_1 = numpy.array(k1,int)\n",
    "array_2 = numpy.array(k2, int)\n",
    "print(numpy.matmul(array_1, array_2))"
   ]
  },
  {
   "cell_type": "markdown",
   "metadata": {},
   "source": [
    "#### 13) Inner and Outer"
   ]
  },
  {
   "cell_type": "code",
   "execution_count": null,
   "metadata": {},
   "outputs": [],
   "source": [
    "import numpy\n",
    "\n",
    "array_1 = numpy.array(list(map(int, input().split())))\n",
    "\n",
    "array_2 = numpy.array(list(map(int, input().split())))\n",
    "\n",
    "print(numpy.inner(array_1, array_2))\n",
    "print(numpy.outer(array_1, array_2))"
   ]
  },
  {
   "cell_type": "markdown",
   "metadata": {},
   "source": [
    "#### 14) Polynomials"
   ]
  },
  {
   "cell_type": "code",
   "execution_count": null,
   "metadata": {},
   "outputs": [],
   "source": [
    "import numpy\n",
    "\n",
    "poly = list(map(float, input().split()))\n",
    "val = int(input())\n",
    "\n",
    "array = numpy.array(poly)\n",
    "\n",
    "print(numpy.polyval(array, val))"
   ]
  },
  {
   "cell_type": "markdown",
   "metadata": {},
   "source": [
    "#### 15) Linear Algebra"
   ]
  },
  {
   "cell_type": "code",
   "execution_count": null,
   "metadata": {},
   "outputs": [],
   "source": [
    "import numpy\n",
    "numpy.set_printoptions(legacy='1.13')\n",
    "n = int(input())\n",
    "k = []\n",
    "for i in range(n):\n",
    "    k.append(list(map(float, input().split())))\n",
    "\n",
    "arry = numpy.array(k, float)\n",
    "\n",
    "print(numpy.round(numpy.linalg.det(arry), 2))"
   ]
  }
 ],
 "metadata": {
  "kernelspec": {
   "display_name": "Python 3",
   "language": "python",
   "name": "python3"
  },
  "language_info": {
   "codemirror_mode": {
    "name": "ipython",
    "version": 3
   },
   "file_extension": ".py",
   "mimetype": "text/x-python",
   "name": "python",
   "nbconvert_exporter": "python",
   "pygments_lexer": "ipython3",
   "version": "3.7.4"
  }
 },
 "nbformat": 4,
 "nbformat_minor": 2
}
