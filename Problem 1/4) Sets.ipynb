{
 "cells": [
  {
   "cell_type": "markdown",
   "metadata": {},
   "source": [
    "### Sets"
   ]
  },
  {
   "cell_type": "markdown",
   "metadata": {},
   "source": [
    "#### 1) Introduction to Sets"
   ]
  },
  {
   "cell_type": "code",
   "execution_count": null,
   "metadata": {},
   "outputs": [],
   "source": [
    "def average(array):\n",
    "    return (sum(set(array))/len(set(array)))"
   ]
  },
  {
   "cell_type": "markdown",
   "metadata": {},
   "source": [
    "#### 2) No Idea!"
   ]
  },
  {
   "cell_type": "code",
   "execution_count": null,
   "metadata": {},
   "outputs": [],
   "source": [
    "\n",
    "\n",
    "no = input()\n",
    "n = int(no.split()[0])\n",
    "m = int(no.split()[1])\n",
    "initial_ar = input()\n",
    "initial_array = list(map(int, initial_ar.split()))\n",
    "\n",
    "array = input()\n",
    "A = set(map(int, array.split()))\n",
    "\n",
    "array = input()\n",
    "B = set(map(int, array.split()))\n",
    "happiness =0\n",
    "for i in initial_array:\n",
    "    if i in A:\n",
    "        happiness = happiness + 1\n",
    "    elif i in B:\n",
    "        happiness = happiness - 1\n",
    "print(happiness)\n"
   ]
  },
  {
   "cell_type": "markdown",
   "metadata": {},
   "source": [
    "#### 3) Symmetric Difference"
   ]
  },
  {
   "cell_type": "code",
   "execution_count": null,
   "metadata": {},
   "outputs": [],
   "source": [
    "\n",
    "\n",
    "m = int(input())\n",
    "\n",
    "l = (input())\n",
    "l = set(map(int, l.split()))\n",
    "\n",
    "n = int(input())\n",
    "#\n",
    "k = (input())\n",
    "k = set(map(int, k.split()))\n",
    "\n",
    "for i in sorted(l.union(k) - l.intersection(k)):\n",
    "    print(i)\n",
    "\n"
   ]
  },
  {
   "cell_type": "markdown",
   "metadata": {},
   "source": [
    "#### 4) Set .add()"
   ]
  },
  {
   "cell_type": "code",
   "execution_count": null,
   "metadata": {},
   "outputs": [],
   "source": [
    "n = int(input())\n",
    "z = set()\n",
    "for i in range(n):\n",
    "    z.add(input())\n",
    "print(len(z))"
   ]
  },
  {
   "cell_type": "markdown",
   "metadata": {},
   "source": [
    "#### 5) Set .discard(), .remove() & .pop()"
   ]
  },
  {
   "cell_type": "code",
   "execution_count": null,
   "metadata": {},
   "outputs": [],
   "source": [
    "n = int(input())\n",
    "s = set(map(int, input().split()))\n",
    "\n",
    "N = int(input())\n",
    "def pop(s):\n",
    "    s.pop()\n",
    "    return s\n",
    "\n",
    "def remove(s, no):\n",
    "    s.remove(no)\n",
    "    return s\n",
    "\n",
    "def discard(s, no):\n",
    "    s.discard(no)\n",
    "    return s\n",
    "\n",
    "dic = {'pop':pop, 'remove':remove, 'discard':discard }\n",
    "operation = []\n",
    "for i in range(N):\n",
    "    operation.append(input())\n",
    "for i in operation:\n",
    "    if i!= 'pop':\n",
    "        s= dic[i.split()[0]](s, int(i.split()[1]))\n",
    "    else:\n",
    "        s =  dic[i](s)\n",
    "\n",
    "print(sum(list(s)))\n",
    "\n"
   ]
  },
  {
   "cell_type": "markdown",
   "metadata": {},
   "source": [
    "#### 6) Set .union() Operation"
   ]
  },
  {
   "cell_type": "code",
   "execution_count": null,
   "metadata": {},
   "outputs": [],
   "source": [
    "n = int(input())\n",
    "no = input()\n",
    "no_student_eng = set(map(int, no.split()))\n",
    "\n",
    "m=  int(input())\n",
    "no_french = input()\n",
    "\n",
    "no_student_fre = set(map(int, no_french.split()))\n",
    "\n",
    "\n",
    "print(len(no_student_eng.union(no_student_fre)))"
   ]
  },
  {
   "cell_type": "markdown",
   "metadata": {},
   "source": [
    "#### 7) Set .intersection() Operation"
   ]
  },
  {
   "cell_type": "code",
   "execution_count": null,
   "metadata": {},
   "outputs": [],
   "source": [
    "\n",
    "n = int(input())\n",
    "no = input()\n",
    "no_student_eng = set(map(int, no.split()))\n",
    "\n",
    "m=  int(input())\n",
    "no_french = input()\n",
    "\n",
    "no_student_fre = set(map(int, no_french.split()))\n",
    "\n",
    "\n",
    "print(len(no_student_eng.intersection(no_student_fre)))\n"
   ]
  },
  {
   "cell_type": "markdown",
   "metadata": {},
   "source": [
    "#### 8) Set .difference() Operation"
   ]
  },
  {
   "cell_type": "code",
   "execution_count": null,
   "metadata": {},
   "outputs": [],
   "source": [
    "n = int(input())\n",
    "no = input()\n",
    "no_student_eng = set(map(int, no.split()))\n",
    "\n",
    "m=  int(input())\n",
    "no_french = input()\n",
    "\n",
    "no_student_fre = set(map(int, no_french.split()))\n",
    "\n",
    "\n",
    "print(len(no_student_eng.difference(no_student_fre)))"
   ]
  },
  {
   "cell_type": "markdown",
   "metadata": {},
   "source": [
    "#### 9) Set .symmetric_difference() Operation"
   ]
  },
  {
   "cell_type": "code",
   "execution_count": null,
   "metadata": {},
   "outputs": [],
   "source": [
    "\n",
    "n = int(input())\n",
    "no = input()\n",
    "no_student_eng = set(map(int, no.split()))\n",
    "\n",
    "m=  int(input())\n",
    "no_french = input()\n",
    "\n",
    "no_student_fre = set(map(int, no_french.split()))\n",
    "\n",
    "\n",
    "print(len(no_student_eng.union(no_student_fre)- no_student_eng.intersection(no_student_fre)))"
   ]
  },
  {
   "cell_type": "markdown",
   "metadata": {},
   "source": [
    "#### 10) Set Mutations"
   ]
  },
  {
   "cell_type": "code",
   "execution_count": null,
   "metadata": {},
   "outputs": [],
   "source": [
    "\n",
    "\n",
    "no_ = int(input())\n",
    "a = input()\n",
    "A = set(map(int, a.split()))\n",
    "N = int(input()) #no of set\n",
    "operation = []\n",
    "for i in range(N):\n",
    "    x = input()\n",
    "    y = input()\n",
    "    operation.append([x, y])\n",
    "\n",
    "def intersection_update(A, y ):\n",
    "    y = set(map(int, y.split()))\n",
    "    A.intersection_update(y)\n",
    "    return A\n",
    "\n",
    "def update(A, y ):\n",
    "    y = set(map(int, y.split()))\n",
    "    A.update(y)\n",
    "    return A\n",
    "\n",
    "def symmetric_difference_update(A, y ):\n",
    "    y = set(map(int, y.split()))\n",
    "    A.symmetric_difference_update(y)\n",
    "    return A\n",
    "def difference_update(A, y ):\n",
    "    y = set(map(int, y.split()))\n",
    "    A.difference_update(y)\n",
    "    return A\n",
    "\n",
    "\n",
    "dic = {'intersection_update': intersection_update, 'update': update ,\n",
    "       'symmetric_difference_update':symmetric_difference_update,\n",
    "       'difference_update':difference_update}\n",
    "\n",
    "for i in operation:\n",
    "    dic[i[0].split()[0]](A, i[1])\n",
    "\n",
    "\n",
    "print(sum(list(A)))\n"
   ]
  },
  {
   "cell_type": "markdown",
   "metadata": {},
   "source": [
    "#### 11) The Captain's Room "
   ]
  },
  {
   "cell_type": "code",
   "execution_count": null,
   "metadata": {},
   "outputs": [],
   "source": [
    "\n",
    "K = int(input())\n",
    "\n",
    "room_no_list = input()\n",
    "room_no_list = list(map(int, room_no_list.split()))\n",
    "\n",
    "\n",
    "set_unique=set()\n",
    "s2=set()  \n",
    "for i in room_no_list:\n",
    "    if  i in set_unique:\n",
    "        s2.add(i)\n",
    "    else:\n",
    "        set_unique.add(i)\n",
    "final =set_unique.difference(s2)\n",
    "print (list(final)[0])\n"
   ]
  },
  {
   "cell_type": "markdown",
   "metadata": {},
   "source": [
    "#### 12) Check Subset"
   ]
  },
  {
   "cell_type": "code",
   "execution_count": null,
   "metadata": {},
   "outputs": [],
   "source": [
    "n = int(input())\n",
    "output = []\n",
    "for i in range(n):\n",
    "    no_1 = int(input())\n",
    "    ar_1 = input()\n",
    "    array_1 = set(map(int, ar_1.split()))\n",
    "    \n",
    "    no_2 = int(input())\n",
    "    ar_2 = input()\n",
    "    array_2 = set(map(int, ar_2.split()))\n",
    "\n",
    "    output.append(array_1.issubset(array_2))\n",
    "for i in output:\n",
    "    print(i)\n"
   ]
  },
  {
   "cell_type": "markdown",
   "metadata": {},
   "source": [
    "#### 13) Check Strict Superset"
   ]
  },
  {
   "cell_type": "code",
   "execution_count": null,
   "metadata": {},
   "outputs": [],
   "source": [
    "a = input()\n",
    "\n",
    "A = set(map( int, a.split(' ')))\n",
    "no = int(input())\n",
    "list_of_set = []\n",
    "for i in range(no):\n",
    "    \n",
    "    se = input()\n",
    "    set_ = set(map(int, se.split(' ')))\n",
    "    list_of_set.append(set_)\n",
    "\n",
    "l = []\n",
    "for i in list_of_set:\n",
    "    if (not A.issuperset(i)) and i.intersection(A)!= i:\n",
    "        l.append(False)\n",
    "    else:\n",
    "        l.append(True)\n",
    "print(all(l))"
   ]
  }
 ],
 "metadata": {
  "kernelspec": {
   "display_name": "Python 3",
   "language": "python",
   "name": "python3"
  },
  "language_info": {
   "codemirror_mode": {
    "name": "ipython",
    "version": 3
   },
   "file_extension": ".py",
   "mimetype": "text/x-python",
   "name": "python",
   "nbconvert_exporter": "python",
   "pygments_lexer": "ipython3",
   "version": "3.7.4"
  }
 },
 "nbformat": 4,
 "nbformat_minor": 2
}
