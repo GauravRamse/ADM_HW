{
 "cells": [
  {
   "cell_type": "markdown",
   "metadata": {},
   "source": [
    "### Data types"
   ]
  },
  {
   "cell_type": "markdown",
   "metadata": {},
   "source": [
    "#### 1) List Comprehensions"
   ]
  },
  {
   "cell_type": "code",
   "execution_count": null,
   "metadata": {},
   "outputs": [],
   "source": [
    "if __name__ == '__main__':\n",
    "    x = int(input())\n",
    "    y = int(input())\n",
    "    z = int(input())\n",
    "    n = int(input())\n",
    "    \n",
    "    print ([[a,b,c] for a in range(x+1) for b in range(y+1) for c in range(z+1) if a + b + c != n ])"
   ]
  },
  {
   "cell_type": "markdown",
   "metadata": {},
   "source": [
    "####  2) Find the Runner-Up Score!"
   ]
  },
  {
   "cell_type": "code",
   "execution_count": null,
   "metadata": {},
   "outputs": [],
   "source": [
    "if __name__ == '__main__':\n",
    "    n = int(input())\n",
    "    arr = map(int, input().split())\n",
    "    \n",
    "\n",
    "    z = list(set(arr))\n",
    "\n",
    "    remo= max(z)\n",
    "    z.remove(remo)\n",
    "    print(max(z))\n"
   ]
  },
  {
   "cell_type": "markdown",
   "metadata": {},
   "source": [
    "#### 3) Nested Lists"
   ]
  },
  {
   "cell_type": "code",
   "execution_count": null,
   "metadata": {},
   "outputs": [],
   "source": [
    "if __name__ == '__main__':\n",
    "    records = []\n",
    "    for _ in range(int(input())):\n",
    "        name = input()\n",
    "        score = float(input())\n",
    "        records.append([name, score])\n",
    "\n",
    "    new_swap = []\n",
    "    for i in records:\n",
    "        new_swap.append((i[1], i[0]))\n",
    "\n",
    "    x = []\n",
    "    max_value = min(new_swap)[0]\n",
    "    for i in new_swap:\n",
    "\n",
    "        if i[0] != max_value:\n",
    "            x.append(i)\n",
    "    x_1 = []\n",
    "    max_value_1 = min(x)[0]\n",
    "    for i in x:\n",
    "        if i[0] == max_value_1:\n",
    "            x_1.append(i)\n",
    "    def second(ele):\n",
    "        return ele[1]\n",
    "    x_1.sort(key = second)\n",
    "\n",
    "    for i in x_1:\n",
    "        print(i[1])\n"
   ]
  },
  {
   "cell_type": "markdown",
   "metadata": {},
   "source": [
    "#### 4) Finding the percentage"
   ]
  },
  {
   "cell_type": "code",
   "execution_count": null,
   "metadata": {},
   "outputs": [],
   "source": [
    "if __name__ == '__main__':\n",
    "    n = int(input())\n",
    "    student_marks = {}\n",
    "    for _ in range(n):\n",
    "        name, *line = input().split()\n",
    "        scores = list(map(float, line))\n",
    "        student_marks[name] = scores\n",
    "    query_name = input()\n",
    "    print(('%.2f'%(sum(student_marks[query_name])/len(student_marks[query_name]))))\n"
   ]
  },
  {
   "cell_type": "markdown",
   "metadata": {},
   "source": [
    "#### 5) Lists"
   ]
  },
  {
   "cell_type": "code",
   "execution_count": null,
   "metadata": {},
   "outputs": [],
   "source": [
    "if __name__ == '__main__':\n",
    "\n",
    "    def insert(x,l):\n",
    "        l.insert(int(x.split()[1]), int(x.split()[2]))\n",
    "        return l\n",
    "\n",
    "    def print_(x,l):\n",
    "        print(l)\n",
    "\n",
    "    def remove(x, l):\n",
    "        l.remove(int(x.split()[1]))\n",
    "        return l\n",
    "\n",
    "    def append(x, l):\n",
    "        l.append(int(x.split()[1]))\n",
    "        return l\n",
    "\n",
    "    def sort(x, l):\n",
    "        l.sort()\n",
    "        return l\n",
    "\n",
    "    def pop(x, l):\n",
    "        l.pop(-1)\n",
    "        return l\n",
    "\n",
    "    def reverse(x, l):\n",
    "        l = l.reverse()\n",
    "        return l\n",
    "\n",
    "    l = []\n",
    "    dic = {'insert':insert, 'print' : print_, 'remove': remove,\n",
    "        'append':append, 'sort': sort, 'pop':pop, 'reverse': reverse}\n",
    "\n",
    "    N = int(input())\n",
    "    commands = []\n",
    "    for i in range(N):\n",
    "        commands.append(input())\n",
    "    for j in commands:\n",
    "        x = j\n",
    "        dic[j.split()[0]](j, l)\n"
   ]
  },
  {
   "cell_type": "markdown",
   "metadata": {},
   "source": [
    "#### 6) Tuples"
   ]
  },
  {
   "cell_type": "code",
   "execution_count": null,
   "metadata": {},
   "outputs": [],
   "source": [
    "if __name__ == '__main__':\n",
    "    n = int(input())\n",
    "    integer_list = map(int, input().split())\n",
    "    print(hash(tuple(integer_list)))\n"
   ]
  }
 ],
 "metadata": {
  "kernelspec": {
   "display_name": "Python 3",
   "language": "python",
   "name": "python3"
  },
  "language_info": {
   "codemirror_mode": {
    "name": "ipython",
    "version": 3
   },
   "file_extension": ".py",
   "mimetype": "text/x-python",
   "name": "python",
   "nbconvert_exporter": "python",
   "pygments_lexer": "ipython3",
   "version": "3.7.4"
  }
 },
 "nbformat": 4,
 "nbformat_minor": 2
}
